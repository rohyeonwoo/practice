{
  "nbformat": 4,
  "nbformat_minor": 0,
  "metadata": {
    "colab": {
      "provenance": [],
      "authorship_tag": "ABX9TyOJ9TuyOpq5TW9tvoF6bDVR",
      "include_colab_link": true
    },
    "kernelspec": {
      "name": "python3",
      "display_name": "Python 3"
    },
    "language_info": {
      "name": "python"
    }
  },
  "cells": [
    {
      "cell_type": "markdown",
      "metadata": {
        "id": "view-in-github",
        "colab_type": "text"
      },
      "source": [
        "<a href=\"https://colab.research.google.com/github/rohyeonwoo/practice/blob/main/Python_base.ipynb\" target=\"_parent\"><img src=\"https://colab.research.google.com/assets/colab-badge.svg\" alt=\"Open In Colab\"/></a>"
      ]
    },
    {
      "cell_type": "markdown",
      "source": [
        "# 마크다운 문법\n",
        "```\n",
        "# hello1\n",
        "## hello2\n",
        "### hello3\n",
        "\n",
        "* 항목\n",
        "* 항목\n",
        "* 항목\n",
        "\n",
        "1. 항목\n",
        "2. 항목\n",
        "3. 항목\n",
        "```\n",
        "\n"
      ],
      "metadata": {
        "id": "Yjh4eklG_BAT"
      }
    },
    {
      "cell_type": "markdown",
      "source": [
        "# colab 단축키 및 설정\n",
        "```\n",
        "Ctrl + Enter: 현재 셀 실행\n",
        "Alt + Enter: 현재 셀 실행 + 아래 코드블록 추가\n",
        "```\n",
        "\n",
        "* 오른쪽 상단 톱니바퀴 클릭 > 편집기 > 들여쓰기 4칸"
      ],
      "metadata": {
        "id": "NxZLRpUW_erS"
      }
    },
    {
      "cell_type": "code",
      "source": [
        "1 + 3"
      ],
      "metadata": {
        "id": "UCwEzTZN_5ZF"
      },
      "execution_count": null,
      "outputs": []
    },
    {
      "cell_type": "code",
      "source": [
        "1 + 1"
      ],
      "metadata": {
        "colab": {
          "base_uri": "https://localhost:8080/"
        },
        "id": "cWmS1qFa_Efr",
        "outputId": "62745a71-285a-4f7e-90f6-38353bfd36c8"
      },
      "execution_count": 1,
      "outputs": [
        {
          "output_type": "execute_result",
          "data": {
            "text/plain": [
              "2"
            ]
          },
          "metadata": {},
          "execution_count": 1
        }
      ]
    },
    {
      "cell_type": "code",
      "source": [
        "1 + 2"
      ],
      "metadata": {
        "colab": {
          "base_uri": "https://localhost:8080/"
        },
        "id": "pyZEJWga_o0g",
        "outputId": "ee593503-1d00-463e-c51a-0cbfaa7c30c9"
      },
      "execution_count": 2,
      "outputs": [
        {
          "output_type": "execute_result",
          "data": {
            "text/plain": [
              "3"
            ]
          },
          "metadata": {},
          "execution_count": 2
        }
      ]
    }
  ]
}